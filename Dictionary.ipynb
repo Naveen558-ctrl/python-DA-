{
 "cells": [
  {
   "cell_type": "markdown",
   "id": "c3693d61-789d-4546-8e05-600f4857ee29",
   "metadata": {},
   "source": [
    "# what is a dictionary\n",
    "- In Python, a dictionary is a collection of key-value pairs. Each key is unique and is used to access the corresponding value. Dictionaries are used to store data values like a map, unlike lists which are indexed by a range of numbers, dictionaries are indexed by keys.\n",
    "\n",
    "Creating a Dictionary\n",
    "You can create a dictionary by placing a comma-separated sequence of key-value pairs within curly braces {}."
   ]
  },
  {
   "cell_type": "markdown",
   "id": "67a76425-d92e-4ef8-b57f-f64e6fdf4986",
   "metadata": {},
   "source": [
    "# examples\n",
    "- {'name':'vamsi','age':34,'location':'hyderabad'}\n",
    "- {'name':'naveen','age':31,'location':'delhi'}\n",
    "- {'name':'kamal','age':30,'location':'mumbai'}\n",
    "- {'name':'shaym','age':24,'location':'vizag'}\n",
    "- {'name':'Ram','age':20,'location':'chennai'}"
   ]
  },
  {
   "cell_type": "code",
   "execution_count": 6,
   "id": "a1db3d6f-7945-47f5-85fe-7fb0070cf2da",
   "metadata": {},
   "outputs": [
    {
     "data": {
      "text/plain": [
       "'vamsi'"
      ]
     },
     "execution_count": 6,
     "metadata": {},
     "output_type": "execute_result"
    }
   ],
   "source": [
    "dict1 = {'name':'vamsi','age':34,'location':'hyderabad'}\n",
    "dict1['name']"
   ]
  },
  {
   "cell_type": "code",
   "execution_count": 10,
   "id": "8601a900-8273-463d-a3dc-d1e61c79e5e1",
   "metadata": {},
   "outputs": [
    {
     "data": {
      "text/plain": [
       "31"
      ]
     },
     "execution_count": 10,
     "metadata": {},
     "output_type": "execute_result"
    }
   ],
   "source": [
    "dict2 = {'name':'naveen','age':31,'location':'delhi'}\n",
    "dict2['age']"
   ]
  },
  {
   "cell_type": "code",
   "execution_count": 12,
   "id": "2642ee3a-445d-4137-b1a6-fd930571d8e3",
   "metadata": {},
   "outputs": [
    {
     "data": {
      "text/plain": [
       "'delhi'"
      ]
     },
     "execution_count": 12,
     "metadata": {},
     "output_type": "execute_result"
    }
   ],
   "source": [
    "dict3 = {'name':'naveen','age':31,'location':'delhi'}\n",
    "dict3['location']"
   ]
  },
  {
   "cell_type": "code",
   "execution_count": 14,
   "id": "db1c7131-4b27-4eba-857c-8db69478ad7a",
   "metadata": {},
   "outputs": [
    {
     "data": {
      "text/plain": [
       "'shaym'"
      ]
     },
     "execution_count": 14,
     "metadata": {},
     "output_type": "execute_result"
    }
   ],
   "source": [
    "dict4 = {'name':'shaym','age':24,'location':'vizag'}\n",
    "dict4['name']"
   ]
  },
  {
   "cell_type": "code",
   "execution_count": 16,
   "id": "f8009fe3-1af9-485d-b50d-0f77d37a1290",
   "metadata": {},
   "outputs": [
    {
     "data": {
      "text/plain": [
       "20"
      ]
     },
     "execution_count": 16,
     "metadata": {},
     "output_type": "execute_result"
    }
   ],
   "source": [
    "dict5 = {'name':'Ram','age':20,'location':'chennai'}\n",
    "dict5 ['age']"
   ]
  },
  {
   "cell_type": "code",
   "execution_count": 18,
   "id": "4c0994d6-8ad3-40f7-ace6-8278c6c7cbae",
   "metadata": {},
   "outputs": [],
   "source": [
    "# adding two dictionaries is not possible "
   ]
  },
  {
   "cell_type": "markdown",
   "id": "462eab79-f145-4b00-a661-ec7276a2fbe3",
   "metadata": {},
   "source": [
    "# dictionary methods\n"
   ]
  },
  {
   "cell_type": "code",
   "execution_count": 25,
   "id": "f1dbd80f-2b46-4782-a75a-536dbc22b96b",
   "metadata": {},
   "outputs": [
    {
     "data": {
      "text/plain": [
       "'vamsi'"
      ]
     },
     "execution_count": 25,
     "metadata": {},
     "output_type": "execute_result"
    }
   ],
   "source": [
    "# .get()method\n",
    "dict1 = {'name':'vamsi','age':34,'location':'hyderabad'}\n",
    "dict1.get('name')"
   ]
  },
  {
   "cell_type": "code",
   "execution_count": 27,
   "id": "3da50ecc-4541-4eab-86ea-93a093834dc5",
   "metadata": {},
   "outputs": [
    {
     "data": {
      "text/plain": [
       "dict_keys(['name', 'age', 'location'])"
      ]
     },
     "execution_count": 27,
     "metadata": {},
     "output_type": "execute_result"
    }
   ],
   "source": [
    "# .keys()method\n",
    "dict1 = {'name':'vamsi','age':34,'location':'hyderabad'}\n",
    "dict1.keys()"
   ]
  },
  {
   "cell_type": "code",
   "execution_count": 29,
   "id": "ecdb3fb6-75e4-45db-9509-41479f1ca47f",
   "metadata": {},
   "outputs": [
    {
     "data": {
      "text/plain": [
       "dict_values(['vamsi', 34, 'hyderabad'])"
      ]
     },
     "execution_count": 29,
     "metadata": {},
     "output_type": "execute_result"
    }
   ],
   "source": [
    "# .values()method\n",
    "dict1 = {'name':'vamsi','age':34,'location':'hyderabad'}\n",
    "dict1.values()"
   ]
  },
  {
   "cell_type": "code",
   "execution_count": 31,
   "id": "9a5d188f-03e8-44b9-a6b4-0c10bbe6f5fc",
   "metadata": {},
   "outputs": [
    {
     "data": {
      "text/plain": [
       "dict_items([('name', 'vamsi'), ('age', 34), ('location', 'hyderabad')])"
      ]
     },
     "execution_count": 31,
     "metadata": {},
     "output_type": "execute_result"
    }
   ],
   "source": [
    "# .items() method\n",
    "dict1 = {'name':'vamsi','age':34,'location':'hyderabad'}\n",
    "dict1.items()"
   ]
  },
  {
   "cell_type": "code",
   "execution_count": 37,
   "id": "590ba3e1-8d9a-47b7-9b03-83bda6aa9d7a",
   "metadata": {},
   "outputs": [
    {
     "data": {
      "text/plain": [
       "{'name': 'naveen', 'age': 31, 'location': 'delhi'}"
      ]
     },
     "execution_count": 37,
     "metadata": {},
     "output_type": "execute_result"
    }
   ],
   "source": [
    "# .update(otherdict) method\n",
    "dict1 = {'name':'vamsi','age':34,'location':'hyderabad'}\n",
    "dict2 = {'name':'naveen','age':31,'location':'delhi'}\n",
    "dict1.update(dict2)\n",
    "dict1"
   ]
  },
  {
   "cell_type": "code",
   "execution_count": 43,
   "id": "ede12a73-1eaf-41bf-ba36-28eba81a047a",
   "metadata": {},
   "outputs": [
    {
     "data": {
      "text/plain": [
       "{'age': 34, 'location': 'hyderabad'}"
      ]
     },
     "execution_count": 43,
     "metadata": {},
     "output_type": "execute_result"
    }
   ],
   "source": [
    "# .pop (key,default) method\n",
    "dict1 = {'name':'vamsi','age':34,'location':'hyderabad'}\n",
    "dict1.pop('name')\n",
    "dict1"
   ]
  },
  {
   "cell_type": "code",
   "execution_count": 45,
   "id": "25c2cd8e-6e6f-49a4-ae20-fd0b7ec1df3f",
   "metadata": {},
   "outputs": [
    {
     "data": {
      "text/plain": [
       "{'name': 'vamsi', 'age': 34}"
      ]
     },
     "execution_count": 45,
     "metadata": {},
     "output_type": "execute_result"
    }
   ],
   "source": [
    "# .popitem() method\n",
    "dict1 = {'name':'vamsi','age':34,'location':'hyderabad'}\n",
    "dict1.popitem()\n",
    "dict1"
   ]
  },
  {
   "cell_type": "code",
   "execution_count": 49,
   "id": "fe2ba692-685a-4c78-b9c9-71faa4e1bda0",
   "metadata": {},
   "outputs": [
    {
     "data": {
      "text/plain": [
       "{}"
      ]
     },
     "execution_count": 49,
     "metadata": {},
     "output_type": "execute_result"
    }
   ],
   "source": [
    "# clear() method\n",
    "dict1.clear()\n",
    "dict1"
   ]
  },
  {
   "cell_type": "code",
   "execution_count": null,
   "id": "6299918e-1e9e-4bf6-9762-b6ff1fbed482",
   "metadata": {},
   "outputs": [],
   "source": []
  }
 ],
 "metadata": {
  "kernelspec": {
   "display_name": "Python 3 (ipykernel)",
   "language": "python",
   "name": "python3"
  },
  "language_info": {
   "codemirror_mode": {
    "name": "ipython",
    "version": 3
   },
   "file_extension": ".py",
   "mimetype": "text/x-python",
   "name": "python",
   "nbconvert_exporter": "python",
   "pygments_lexer": "ipython3",
   "version": "3.12.7"
  }
 },
 "nbformat": 4,
 "nbformat_minor": 5
}
