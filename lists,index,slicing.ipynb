{
 "cells": [
  {
   "cell_type": "markdown",
   "id": "3f84509a-b8d3-4080-81a1-03ce64a0587b",
   "metadata": {},
   "source": [
    "# what is list \n",
    "- what is lists in python\n",
    "In Python, a list is a versatile data structure that allows you to store an ordered collection of items, which can be of different types (e.g., strings, integers, floats, objects).\n",
    "- a = [1,2,3,4,5]\n",
    "- b = ['1','2','3','4','5']\n",
    "- c = [\"apple\"banana\",\"mango\",\"rot\",\"carrot\"]\n",
    "- d = [\"apple\",\"1\",\"carrot\",\"2\"]\n",
    "- e =[\"apple\",\"banana\",\"mango\",\"rot\",\"beetroot\"]"
   ]
  },
  {
   "cell_type": "markdown",
   "id": "01c92e08-5f16-4b89-b5ae-306ff8f84349",
   "metadata": {},
   "source": [
    "# what is index\n",
    "- what is index in python\n",
    "In Python, an index is used to refer to the position of an element within a list, string, or any other sequence type. Here's a quick overview:\n",
    "positive index starts from 0 (left to right ) and negative index starts from -1 (right to left)"
   ]
  },
  {
   "cell_type": "markdown",
   "id": "3afcda05-6cd3-456c-9b69-3cfaf6d6bd28",
   "metadata": {},
   "source": [
    "# examples of postive index"
   ]
  },
  {
   "cell_type": "code",
   "execution_count": 28,
   "id": "ac4264e7-8503-48b5-86eb-cf69d46eadb4",
   "metadata": {},
   "outputs": [
    {
     "name": "stdout",
     "output_type": "stream",
     "text": [
      "2\n"
     ]
    }
   ],
   "source": [
    "a = [1,2,3,4,5]\n",
    "print(a[1])"
   ]
  },
  {
   "cell_type": "code",
   "execution_count": 6,
   "id": "426ac13a-8643-4b8b-96df-44953aa978f0",
   "metadata": {},
   "outputs": [
    {
     "name": "stdout",
     "output_type": "stream",
     "text": [
      "1\n"
     ]
    }
   ],
   "source": [
    "b = ['1','2','3','4','5']\n",
    "print(b[0])"
   ]
  },
  {
   "cell_type": "code",
   "execution_count": 14,
   "id": "90222a5c-2db6-4fdd-a775-3e3bc58b5cb8",
   "metadata": {},
   "outputs": [
    {
     "name": "stdout",
     "output_type": "stream",
     "text": [
      "rot\n"
     ]
    }
   ],
   "source": [
    "c = [\"apple\",\"banana\",\"mango\",\"rot\",\"carrot\"]\n",
    "print(c[3])"
   ]
  },
  {
   "cell_type": "code",
   "execution_count": 16,
   "id": "b88a4891-3a60-4ee9-af25-61be1cdcb21e",
   "metadata": {},
   "outputs": [
    {
     "name": "stdout",
     "output_type": "stream",
     "text": [
      "2\n"
     ]
    }
   ],
   "source": [
    "d = [\"apple\",\"1\",\"carrot\",\"2\"]\n",
    "print(d[3])"
   ]
  },
  {
   "cell_type": "code",
   "execution_count": 20,
   "id": "d60a6a49-5ae2-4196-b258-28256ef798a5",
   "metadata": {},
   "outputs": [
    {
     "name": "stdout",
     "output_type": "stream",
     "text": [
      "beetroot\n"
     ]
    }
   ],
   "source": [
    "e =[\"apple\",\"banana\",\"mango\",\"rot\",\"beetroot\"]\n",
    "print(e[4])"
   ]
  },
  {
   "cell_type": "markdown",
   "id": "32906f57-706b-4dc5-be6a-65d47ecb191d",
   "metadata": {},
   "source": [
    "# examples of negative index\n"
   ]
  },
  {
   "cell_type": "code",
   "execution_count": 30,
   "id": "80ae1dae-d479-4136-bb4f-aa7adafe33a0",
   "metadata": {},
   "outputs": [
    {
     "name": "stdout",
     "output_type": "stream",
     "text": [
      "5\n"
     ]
    }
   ],
   "source": [
    "a = [1,2,3,4,5]\n",
    "print(a[-1])"
   ]
  },
  {
   "cell_type": "code",
   "execution_count": 32,
   "id": "ce91a849-6e7b-48f2-b68e-fa90c1a9ce60",
   "metadata": {},
   "outputs": [
    {
     "name": "stdout",
     "output_type": "stream",
     "text": [
      "4\n"
     ]
    }
   ],
   "source": [
    "b = ['1','2','3','4','5']\n",
    "print(b[-2])"
   ]
  },
  {
   "cell_type": "code",
   "execution_count": 34,
   "id": "765f223d-1974-436a-9687-13199ab16880",
   "metadata": {},
   "outputs": [
    {
     "name": "stdout",
     "output_type": "stream",
     "text": [
      "mango\n"
     ]
    }
   ],
   "source": [
    "c = [\"apple\",\"banana\",\"mango\",\"rot\",\"carrot\"]\n",
    "print(c[-3])"
   ]
  },
  {
   "cell_type": "code",
   "execution_count": 36,
   "id": "6728afb5-63ea-4689-8014-0acaa6e594b4",
   "metadata": {},
   "outputs": [
    {
     "name": "stdout",
     "output_type": "stream",
     "text": [
      "apple\n"
     ]
    }
   ],
   "source": [
    "d = [\"apple\",\"1\",\"carrot\",\"2\"]\n",
    "print(d[-4])"
   ]
  },
  {
   "cell_type": "code",
   "execution_count": 38,
   "id": "c3d260b5-a982-4ca2-8e69-0bc03140ce0d",
   "metadata": {},
   "outputs": [
    {
     "name": "stdout",
     "output_type": "stream",
     "text": [
      "apple\n"
     ]
    }
   ],
   "source": [
    "e =[\"apple\",\"banana\",\"mango\",\"rot\",\"beetroot\"]\n",
    "print(e[-5])"
   ]
  },
  {
   "cell_type": "markdown",
   "id": "9538daa3-6930-4faa-b980-e959109f2938",
   "metadata": {},
   "source": [
    "# what is slicing \n",
    "-Slicing in Python refers to the process of extracting a portion of a sequence such as a list, string, or tuple. It's a very powerful feature that allows for flexible data manipulation."
   ]
  },
  {
   "cell_type": "markdown",
   "id": "617bfa7d-6a7c-4619-b9ab-4ed4cdc3eb50",
   "metadata": {},
   "source": [
    "# examples slicing "
   ]
  },
  {
   "cell_type": "code",
   "execution_count": 42,
   "id": "6afe59d6-7d3e-43e5-8e5a-acb624b87b33",
   "metadata": {},
   "outputs": [
    {
     "name": "stdout",
     "output_type": "stream",
     "text": [
      "[2, 3, 4, 5]\n",
      "[0, 1, 2, 3, 4]\n",
      "[4, 5, 6, 7, 8, 9]\n",
      "[0, 2, 4, 6, 8]\n",
      "[9, 8, 7, 6, 5, 4, 3, 2, 1, 0]\n"
     ]
    }
   ],
   "source": [
    "numbers = [0, 1, 2, 3, 4, 5, 6, 7, 8, 9]\n",
    "slice1 = numbers[2:6]\n",
    "print(slice1) \n",
    "\n",
    "\n",
    "slice2 = numbers[:5]\n",
    "print(slice2)  \n",
    "\n",
    "\n",
    "slice3 = numbers[4:]\n",
    "print(slice3)\n",
    "\n",
    "\n",
    "slice4 = numbers[::2]\n",
    "print(slice4)\n",
    "\n",
    "\n",
    "slice5 = numbers[::-1]\n",
    "print(slice5)  \n"
   ]
  },
  {
   "cell_type": "code",
   "execution_count": null,
   "id": "6e7ae258-66d8-4005-a136-eba51a13251c",
   "metadata": {},
   "outputs": [],
   "source": []
  }
 ],
 "metadata": {
  "kernelspec": {
   "display_name": "Python 3 (ipykernel)",
   "language": "python",
   "name": "python3"
  },
  "language_info": {
   "codemirror_mode": {
    "name": "ipython",
    "version": 3
   },
   "file_extension": ".py",
   "mimetype": "text/x-python",
   "name": "python",
   "nbconvert_exporter": "python",
   "pygments_lexer": "ipython3",
   "version": "3.12.7"
  }
 },
 "nbformat": 4,
 "nbformat_minor": 5
}
