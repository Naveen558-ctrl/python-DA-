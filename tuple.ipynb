{
 "cells": [
  {
   "cell_type": "markdown",
   "id": "79e78976-e2ea-433c-9e87-47c7b3bcc95d",
   "metadata": {},
   "source": [
    "# what is a tuple \n",
    "- A tuple is a data structure in programming used to store an ordered, immutable collection of items. It is a common feature in many programming languages, including Python, and is typically used to group related data together\n",
    "- the elements are seperated by commas\n",
    "  "
   ]
  },
  {
   "cell_type": "markdown",
   "id": "4ab334a3-eae6-4a94-b143-7cc9c4e6508b",
   "metadata": {},
   "source": [
    "# creating a tuple\n",
    "- empty tuple\n",
    "- empty_tuple =()\n",
    "- tuple with elements\n",
    "- fruits = (\"apple\",\"orange\",\"banana\")"
   ]
  },
  {
   "cell_type": "code",
   "execution_count": 7,
   "id": "98a14349-77b8-4c43-bb29-6ed45afd95ba",
   "metadata": {},
   "outputs": [
    {
     "name": "stdout",
     "output_type": "stream",
     "text": [
      "<class 'tuple'>\n"
     ]
    }
   ],
   "source": [
    "# single element tuple \n",
    "animal = ('zebra',)\n",
    "print(type(animal))"
   ]
  },
  {
   "cell_type": "markdown",
   "id": "63f781cb-396c-418f-9cf1-eb56478a56ab",
   "metadata": {},
   "source": [
    "# tuple is immutable \n",
    "- Immutability in Tuples\n",
    "Immutability means that once a tuple is created, its elements cannot be modified. This includes:\n",
    "\n",
    "Adding new elements\n",
    "Removing existing elements\n",
    "Changing the value of existing elements\n",
    "This property makes tuples different from lists, which are mutable.\n",
    "\n"
   ]
  },
  {
   "cell_type": "markdown",
   "id": "521228fc-e921-46fa-8164-43f410ba8cdb",
   "metadata": {},
   "source": [
    "# tuple operators "
   ]
  },
  {
   "cell_type": "code",
   "execution_count": 15,
   "id": "2fab5c42-4e1f-4db0-bb67-7726e36458ad",
   "metadata": {},
   "outputs": [
    {
     "name": "stdout",
     "output_type": "stream",
     "text": [
      "(1, 2, 3, 'a', 'b', 'c')\n"
     ]
    }
   ],
   "source": [
    "# concatination\n",
    "# combining two tuples\n",
    "tuple1 = (1,2,3)\n",
    "tuple2 = ('a','b','c')\n",
    "result = tuple1 + tuple2\n",
    "print(result)"
   ]
  },
  {
   "cell_type": "code",
   "execution_count": 17,
   "id": "63707625-6c71-428e-8839-4f298bee9d14",
   "metadata": {},
   "outputs": [
    {
     "name": "stdout",
     "output_type": "stream",
     "text": [
      "(1, 2, 3, 1, 2, 3, 1, 2, 3)\n"
     ]
    }
   ],
   "source": [
    "# repetetion\n",
    "# repeating a tuple \n",
    "tuple1 = (1,2,3)\n",
    "result = tuple1*3\n",
    "print (result)"
   ]
  },
  {
   "cell_type": "markdown",
   "id": "8a43b9a0-2eac-47dd-96fb-384578aa7a39",
   "metadata": {},
   "source": [
    "# tuple methods\n",
    "- tuples have limited methods when compared to lists due tomits immutability "
   ]
  },
  {
   "cell_type": "code",
   "execution_count": 25,
   "id": "15f553c7-3116-4e99-bd41-52cd63f0d25b",
   "metadata": {},
   "outputs": [
    {
     "name": "stdout",
     "output_type": "stream",
     "text": [
      "3\n"
     ]
    }
   ],
   "source": [
    "# count \n",
    "# returns the no of occurance of a specified value \n",
    "numbers = (1,1,1,2,3)\n",
    "count=numbers.count(1)\n",
    "print(count)"
   ]
  },
  {
   "cell_type": "code",
   "execution_count": 31,
   "id": "f42567b0-b699-4b7e-8fd7-0c019b6800d9",
   "metadata": {},
   "outputs": [
    {
     "name": "stdout",
     "output_type": "stream",
     "text": [
      "2\n"
     ]
    }
   ],
   "source": [
    "# index ()\n",
    "# returns the index of the first occurance of a specified value\n",
    "numbers = (1,2,3,4,5,6,3,8,9)\n",
    "lol = numbers.index(3)\n",
    "print(lol)"
   ]
  },
  {
   "cell_type": "code",
   "execution_count": null,
   "id": "89688edd-6a41-49ec-a878-3e0a89611fad",
   "metadata": {},
   "outputs": [],
   "source": []
  }
 ],
 "metadata": {
  "kernelspec": {
   "display_name": "Python 3 (ipykernel)",
   "language": "python",
   "name": "python3"
  },
  "language_info": {
   "codemirror_mode": {
    "name": "ipython",
    "version": 3
   },
   "file_extension": ".py",
   "mimetype": "text/x-python",
   "name": "python",
   "nbconvert_exporter": "python",
   "pygments_lexer": "ipython3",
   "version": "3.12.7"
  }
 },
 "nbformat": 4,
 "nbformat_minor": 5
}
