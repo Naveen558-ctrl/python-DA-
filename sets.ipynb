{
 "cells": [
  {
   "cell_type": "markdown",
   "id": "9e3a1240-4edc-417a-96d5-fb4c34bc356d",
   "metadata": {},
   "source": [
    "# what are sets in python \n",
    "- In Python, a set is an unordered collection of unique elements. Sets are highly useful for performing operations that involve comparing and combining collections of data. Here’s a detailed look at sets:\n",
    "\n",
    "Creating a Set\n",
    "You can create a set by using curly braces {} or the set() function."
   ]
  },
  {
   "cell_type": "code",
   "execution_count": 8,
   "id": "8db69ede-f986-446c-a758-35a5fbc7ac6c",
   "metadata": {},
   "outputs": [],
   "source": [
    "# creating empty set\n",
    "empty_set = set()"
   ]
  },
  {
   "cell_type": "code",
   "execution_count": 10,
   "id": "856e944d-0200-4bb7-a24a-e4e62e678ef7",
   "metadata": {},
   "outputs": [],
   "source": [
    "# creating a set with elements \n",
    "fruits = {'apple','banana','orange'}"
   ]
  },
  {
   "cell_type": "markdown",
   "id": "1add5498-fb44-4f8c-b19e-ac4ffd9dda88",
   "metadata": {},
   "source": [
    "# converting a list to a set "
   ]
  },
  {
   "cell_type": "code",
   "execution_count": 13,
   "id": "2d0f2b1b-ed35-42ee-bb29-a2cda8cce8c0",
   "metadata": {},
   "outputs": [
    {
     "name": "stdout",
     "output_type": "stream",
     "text": [
      "{1, 2, 3, 4, 5}\n"
     ]
    }
   ],
   "source": [
    "numbers = set([1,2,3,4,5])\n",
    "print(numbers)"
   ]
  },
  {
   "cell_type": "code",
   "execution_count": 15,
   "id": "77fea196-13d5-4aca-bd17-8f81c6686591",
   "metadata": {},
   "outputs": [
    {
     "name": "stdout",
     "output_type": "stream",
     "text": [
      "<class 'set'>\n"
     ]
    }
   ],
   "source": [
    "fruits = {'apple','banana','orange'}\n",
    "print(type(fruits))"
   ]
  },
  {
   "cell_type": "markdown",
   "id": "50953a47-5289-409b-8b30-9a6263692f5e",
   "metadata": {},
   "source": [
    "# duplicate items in a set\n",
    "prints only the unique values but not the duplicates"
   ]
  },
  {
   "cell_type": "code",
   "execution_count": 18,
   "id": "6f69016c-c392-45cb-8c46-4a55248a9abb",
   "metadata": {},
   "outputs": [
    {
     "name": "stdout",
     "output_type": "stream",
     "text": [
      "{0, 3, 4, 5, 6, 7, 8, 9, 10, 11}\n"
     ]
    }
   ],
   "source": [
    "numbers = {3,3,4,4,5,6,7,8,9,0,10,11}\n",
    "print(numbers)"
   ]
  },
  {
   "cell_type": "markdown",
   "id": "cab29ab8-a98d-42be-970b-059fe38b6d48",
   "metadata": {},
   "source": [
    "# add and update set items in python\n",
    "- sets are mutable, since they are unordered ,indexing has no meaning\n",
    "- we cannot access or change elements of a set using indexing or slicing"
   ]
  },
  {
   "cell_type": "markdown",
   "id": "745be164-9a57-41cd-99ee-6fb53474b580",
   "metadata": {},
   "source": [
    "# add items to a set \n",
    "- in python we use add ()method to add item to a set "
   ]
  },
  {
   "cell_type": "code",
   "execution_count": 25,
   "id": "46bb7690-166a-47dd-b88f-0162bcceb9ce",
   "metadata": {},
   "outputs": [
    {
     "name": "stdout",
     "output_type": "stream",
     "text": [
      "initial set: {1, 2, 3, 4, 5, 6, 7, 8, 9, 10, 11, 23}\n",
      "updated set: {1, 2, 3, 4, 5, 6, 7, 8, 9, 10, 11, 23}\n"
     ]
    }
   ],
   "source": [
    "# ex add items to a set \n",
    "numbers = {9,1,2,3,4,5,6,7,8,10,11,23,4,5}\n",
    "print('initial set:',numbers)\n",
    "numbers.add(1)\n",
    "print('updated set:',numbers)"
   ]
  },
  {
   "cell_type": "markdown",
   "id": "05f15c6d-7e64-4ce7-aef2-aada7432b2f1",
   "metadata": {},
   "source": [
    "# update python set \n",
    "- The update ()method is used to update the set with items other collection types(lists,tuples,sets,etc)"
   ]
  },
  {
   "cell_type": "code",
   "execution_count": 30,
   "id": "05d4da72-9a03-4015-9697-3a82bf25ef8c",
   "metadata": {},
   "outputs": [
    {
     "name": "stdout",
     "output_type": "stream",
     "text": [
      "{'microsoft', 'technology', 'teks', 'mon'}\n"
     ]
    }
   ],
   "source": [
    "# ex update python set \n",
    "companies = {'microsoft','teks','technology','teks'}\n",
    "tech_companies = {'mon','teks','technology'}\n",
    "companies.update(tech_companies)\n",
    "print(companies)"
   ]
  },
  {
   "cell_type": "markdown",
   "id": "41adbf11-1cc9-48f5-ac54-d2c131c5938c",
   "metadata": {},
   "source": [
    "# remove an element from a set\n",
    "- we use the discard ()method to remove the specified element from a set\n",
    "- "
   ]
  },
  {
   "cell_type": "code",
   "execution_count": 33,
   "id": "0df19ab4-2f69-4ee6-b542-32643b05033f",
   "metadata": {},
   "outputs": [
    {
     "name": "stdout",
     "output_type": "stream",
     "text": [
      "initial set: {'java', 'swift', 'python'}\n",
      "final set: {'java', 'swift'}\n"
     ]
    }
   ],
   "source": [
    "languages = {'swift','java','python'}\n",
    "print('initial set:',languages)\n",
    "languages.remove('python')\n",
    "print('final set:',languages)"
   ]
  },
  {
   "cell_type": "markdown",
   "id": "8929a382-4ba9-4fb2-b028-d5a763761f88",
   "metadata": {},
   "source": [
    "# python set operations "
   ]
  },
  {
   "cell_type": "markdown",
   "id": "bf1ce316-8d95-4832-b25a-9ebfbaa4f3ff",
   "metadata": {},
   "source": [
    "# union of two sets\n",
    "- shows all the elements in set 1 & 2 but not the duplicates\n",
    " "
   ]
  },
  {
   "cell_type": "code",
   "execution_count": 38,
   "id": "6a461748-16d9-49b9-a9f0-3d4d6cf2c334",
   "metadata": {},
   "outputs": [
    {
     "name": "stdout",
     "output_type": "stream",
     "text": [
      "union using 1: {0, 66, 35, 4, 5, 42, 44, 22, 55, 29}\n"
     ]
    }
   ],
   "source": [
    "# perform using |\n",
    "# first set \n",
    "c = {0,42,35,5,29,4}\n",
    "# second set \n",
    "d = {0,4,22,44,55,66}\n",
    "print('union using 1:',c | d)"
   ]
  },
  {
   "cell_type": "code",
   "execution_count": 42,
   "id": "31e2532d-4436-4dbb-b329-50f3ffa7b34d",
   "metadata": {},
   "outputs": [
    {
     "name": "stdout",
     "output_type": "stream",
     "text": [
      "output: {0, 66, 35, 4, 5, 42, 44, 22, 55, 29}\n"
     ]
    }
   ],
   "source": [
    "# perform using union ()\n",
    "# first set \n",
    "c = {0,42,35,5,29,4}\n",
    "# second set \n",
    "d = {0,4,22,44,55,66}\n",
    "print('output:',c.union(d))"
   ]
  },
  {
   "cell_type": "markdown",
   "id": "dd606650-8d69-43f0-baa4-42eb39c75a60",
   "metadata": {},
   "source": [
    "# set intersection\n",
    "- prints the common elemnts in set A & B "
   ]
  },
  {
   "cell_type": "code",
   "execution_count": 45,
   "id": "e6f19f2e-ade2-4eac-b9ac-22ac5861b59f",
   "metadata": {},
   "outputs": [
    {
     "name": "stdout",
     "output_type": "stream",
     "text": [
      "intersection: {0, 4}\n"
     ]
    }
   ],
   "source": [
    "# first set \n",
    "c = {0,42,35,5,29,4}\n",
    "# second set \n",
    "d = {0,4,22,44,55,66}\n",
    "print('intersection:',c & d)"
   ]
  },
  {
   "cell_type": "markdown",
   "id": "46ab67e2-2711-4fb5-85bf-fd092f2cd28b",
   "metadata": {},
   "source": [
    "# Difference between two sets \n",
    "- the difference betweeen two sets a and b includes elements of set a and set b that are not present on set b.\n",
    "- returns elemnts that are in the first set but not in the second"
   ]
  },
  {
   "cell_type": "code",
   "execution_count": 50,
   "id": "e330cf98-bc9b-42b1-a529-92a577b50c44",
   "metadata": {},
   "outputs": [
    {
     "name": "stdout",
     "output_type": "stream",
     "text": [
      "difference using differnce (): {29, 42, 35, 5}\n"
     ]
    }
   ],
   "source": [
    "# first set \n",
    "c = {0,42,35,5,29,4}\n",
    "# second set \n",
    "d = {0,4,22,44,55,66}\n",
    "print('difference using differnce ():',c.difference(d))"
   ]
  },
  {
   "cell_type": "markdown",
   "id": "4e95018b-55d5-4bfc-af94-beffc62b275f",
   "metadata": {},
   "source": [
    "# set symmetric difference \n",
    "- prints the elements in a and b but not the common elements "
   ]
  },
  {
   "cell_type": "code",
   "execution_count": 53,
   "id": "b180ba70-b11d-4dc0-a0cd-0ef0a2dfae17",
   "metadata": {},
   "outputs": [
    {
     "name": "stdout",
     "output_type": "stream",
     "text": [
      "{66, 35, 5, 42, 44, 22, 55, 29}\n"
     ]
    }
   ],
   "source": [
    "# first set \n",
    "c = {0,42,35,5,29,4}\n",
    "# second set \n",
    "d = {0,4,22,44,55,66}\n",
    "print(c^d)"
   ]
  },
  {
   "cell_type": "code",
   "execution_count": null,
   "id": "333a6e7a-285a-4183-b976-f1fc470fbd1f",
   "metadata": {},
   "outputs": [],
   "source": []
  }
 ],
 "metadata": {
  "kernelspec": {
   "display_name": "Python 3 (ipykernel)",
   "language": "python",
   "name": "python3"
  },
  "language_info": {
   "codemirror_mode": {
    "name": "ipython",
    "version": 3
   },
   "file_extension": ".py",
   "mimetype": "text/x-python",
   "name": "python",
   "nbconvert_exporter": "python",
   "pygments_lexer": "ipython3",
   "version": "3.12.7"
  }
 },
 "nbformat": 4,
 "nbformat_minor": 5
}
