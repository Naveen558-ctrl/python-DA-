{
 "cells": [
  {
   "cell_type": "code",
   "execution_count": 1,
   "id": "cd825ba3-36ae-47fa-9889-025131c466cd",
   "metadata": {},
   "outputs": [
    {
     "name": "stdout",
     "output_type": "stream",
     "text": [
      "32\n"
     ]
    }
   ],
   "source": [
    "print(34 & 45)"
   ]
  },
  {
   "cell_type": "code",
   "execution_count": 3,
   "id": "02cf20e2-5805-4873-953e-14a867f06cd9",
   "metadata": {},
   "outputs": [
    {
     "name": "stdout",
     "output_type": "stream",
     "text": [
      "47\n"
     ]
    }
   ],
   "source": [
    "print(34 | 45)"
   ]
  },
  {
   "cell_type": "code",
   "execution_count": 5,
   "id": "7d66c48e-8d34-423d-bc41-c4683e92e0a1",
   "metadata": {},
   "outputs": [
    {
     "name": "stdout",
     "output_type": "stream",
     "text": [
      "106\n"
     ]
    }
   ],
   "source": [
    "print (234&890)"
   ]
  },
  {
   "cell_type": "code",
   "execution_count": 7,
   "id": "49b7f5a0-bdc0-4e5f-9192-c3aec514a9ac",
   "metadata": {},
   "outputs": [
    {
     "name": "stdout",
     "output_type": "stream",
     "text": [
      "1018\n"
     ]
    }
   ],
   "source": [
    "print(234|890)"
   ]
  },
  {
   "cell_type": "code",
   "execution_count": 9,
   "id": "4e119ee8-ef62-4060-81fc-8f2957f8d1fe",
   "metadata": {},
   "outputs": [
    {
     "name": "stdout",
     "output_type": "stream",
     "text": [
      "1\n"
     ]
    }
   ],
   "source": [
    "print(7 & 777) "
   ]
  },
  {
   "cell_type": "code",
   "execution_count": 11,
   "id": "4f047d79-76d6-4d9f-a883-c5878fd6c43d",
   "metadata": {},
   "outputs": [
    {
     "name": "stdout",
     "output_type": "stream",
     "text": [
      "783\n"
     ]
    }
   ],
   "source": [
    "print(7|777)"
   ]
  },
  {
   "cell_type": "code",
   "execution_count": 17,
   "id": "1c66a5dd-c100-450a-b673-a61195410d9a",
   "metadata": {},
   "outputs": [
    {
     "name": "stdout",
     "output_type": "stream",
     "text": [
      "49\n"
     ]
    }
   ],
   "source": [
    "print(32^17)"
   ]
  },
  {
   "cell_type": "code",
   "execution_count": 15,
   "id": "a653b12d-87cb-472f-9d0f-6edd221fba1b",
   "metadata": {},
   "outputs": [
    {
     "name": "stdout",
     "output_type": "stream",
     "text": [
      "694\n"
     ]
    }
   ],
   "source": [
    "print (937^287)"
   ]
  },
  {
   "cell_type": "code",
   "execution_count": 19,
   "id": "0f698640-56b8-448f-86c4-54e0184489ab",
   "metadata": {},
   "outputs": [
    {
     "name": "stdout",
     "output_type": "stream",
     "text": [
      "360\n"
     ]
    }
   ],
   "source": [
    "print (45<<3)"
   ]
  },
  {
   "cell_type": "code",
   "execution_count": 21,
   "id": "caa2eb05-bc34-444b-a3a9-aa6f268d0918",
   "metadata": {},
   "outputs": [
    {
     "name": "stdout",
     "output_type": "stream",
     "text": [
      "1144\n"
     ]
    }
   ],
   "source": [
    "print(143<<3)"
   ]
  },
  {
   "cell_type": "code",
   "execution_count": 23,
   "id": "2b861c7f-1565-490f-a91e-88127ef594aa",
   "metadata": {},
   "outputs": [
    {
     "name": "stdout",
     "output_type": "stream",
     "text": [
      "105\n"
     ]
    }
   ],
   "source": [
    "print(420>>2)"
   ]
  },
  {
   "cell_type": "code",
   "execution_count": 27,
   "id": "f306cee5-de67-4b5e-aa5a-e228cbef3bae",
   "metadata": {},
   "outputs": [
    {
     "name": "stdout",
     "output_type": "stream",
     "text": [
      "48\n"
     ]
    }
   ],
   "source": [
    "print(777>>4)"
   ]
  },
  {
   "cell_type": "code",
   "execution_count": null,
   "id": "381995f0-261e-44c6-8032-25d25a871d17",
   "metadata": {},
   "outputs": [],
   "source": []
  }
 ],
 "metadata": {
  "kernelspec": {
   "display_name": "Python 3 (ipykernel)",
   "language": "python",
   "name": "python3"
  },
  "language_info": {
   "codemirror_mode": {
    "name": "ipython",
    "version": 3
   },
   "file_extension": ".py",
   "mimetype": "text/x-python",
   "name": "python",
   "nbconvert_exporter": "python",
   "pygments_lexer": "ipython3",
   "version": "3.12.7"
  }
 },
 "nbformat": 4,
 "nbformat_minor": 5
}
