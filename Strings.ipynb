{
 "cells": [
  {
   "cell_type": "markdown",
   "id": "7e249e30-5da6-4f04-b5d4-2fe280ad096f",
   "metadata": {},
   "source": [
    "# what is a string \n",
    "- what is a string inpython\n",
    "In Python, a string is a sequence of characters enclosed in quotes. Strings are used to represent text and are one of the most commonly used data types in programming.\n",
    "- You can create strings by enclosing characters in single quotes (' '), double quotes (\" \"), or triple quotes (''' ''' or \"\"\" \"\"\")."
   ]
  },
  {
   "cell_type": "markdown",
   "id": "e1c691bf-06a4-4ea4-b318-a0da260ec775",
   "metadata": {},
   "source": [
    "# examples of string \n",
    "a = \"kamal\"\n",
    "b = 'kamal'\n",
    "c = \"kamal! you\"\n",
    "d = \"kamal123\"\n",
    "e = 'kamal123'"
   ]
  },
  {
   "cell_type": "markdown",
   "id": "30f81e5b-0d91-47f9-a02a-120b5eef912c",
   "metadata": {},
   "source": [
    "# string format \n",
    "1) .format method\n",
    "2) f-string method"
   ]
  },
  {
   "cell_type": "markdown",
   "id": "324c0581-5ee4-4844-ba19-0100a013952a",
   "metadata": {},
   "source": [
    "# .format method\n",
    "The .format() method is a versatile way to format strings, introduced in Python 2.7 and Python 3.0. It uses curly braces {} as placeholders, which can be replaced with values specified in the .format() method.\n",
    "\n",
    "# f-string method\n",
    "F-strings, introduced in Python 3.6, provide a more concise and readable way to format strings. They are prefixed with f or F and allow embedded expressions inside curly braces {}."
   ]
  },
  {
   "cell_type": "code",
   "execution_count": 7,
   "id": "4fe2f028-d927-4552-981a-96a8cd5009a4",
   "metadata": {},
   "outputs": [
    {
     "name": "stdout",
     "output_type": "stream",
     "text": [
      "my name is naveen and my age is 21\n"
     ]
    }
   ],
   "source": [
    "# format method\n",
    "name = \"naveen\"\n",
    "age = 21\n",
    "print('my name is {} and my age is {}'.format(name,age))"
   ]
  },
  {
   "cell_type": "code",
   "execution_count": 9,
   "id": "694fd3fe-3244-49bc-8267-a61f5dbe981f",
   "metadata": {},
   "outputs": [
    {
     "name": "stdout",
     "output_type": "stream",
     "text": [
      "my name is naveen and my age is 21 \n"
     ]
    }
   ],
   "source": [
    "# f-string method\n",
    "name = \"naveen\"\n",
    "age = 21\n",
    "print(f'my name is {name} and my age is {age} ')"
   ]
  },
  {
   "cell_type": "markdown",
   "id": "fa3b1756-e0de-498c-b159-ac0a05d42d02",
   "metadata": {},
   "source": [
    "# Accessing elements from a string\n"
   ]
  },
  {
   "cell_type": "code",
   "execution_count": 12,
   "id": "8ad660ce-f38b-427f-acc6-7fc763f09b69",
   "metadata": {},
   "outputs": [
    {
     "name": "stdout",
     "output_type": "stream",
     "text": [
      "k\n"
     ]
    }
   ],
   "source": [
    "# positive index\n",
    "a = \"kamal\" \n",
    "print(a[0]) "
   ]
  },
  {
   "cell_type": "code",
   "execution_count": 16,
   "id": "d6d735ef-944c-47ed-b52f-c83788ab1426",
   "metadata": {},
   "outputs": [
    {
     "name": "stdout",
     "output_type": "stream",
     "text": [
      " \n"
     ]
    }
   ],
   "source": [
    "b = \"kamal 123\"\n",
    "print(b[5])"
   ]
  },
  {
   "cell_type": "code",
   "execution_count": 18,
   "id": "6e3bd2eb-846e-4759-899e-39ad82b49b48",
   "metadata": {},
   "outputs": [
    {
     "name": "stdout",
     "output_type": "stream",
     "text": [
      "_\n"
     ]
    }
   ],
   "source": [
    "c = 'kamal_1'\n",
    "print(c[5])"
   ]
  },
  {
   "cell_type": "code",
   "execution_count": 20,
   "id": "979bf2a4-7190-4229-817d-301d1031d5cb",
   "metadata": {},
   "outputs": [
    {
     "name": "stdout",
     "output_type": "stream",
     "text": [
      "l\n"
     ]
    }
   ],
   "source": [
    "# negative index\n",
    "a = \"kamal\" \n",
    "print(a[-1]) "
   ]
  },
  {
   "cell_type": "code",
   "execution_count": 22,
   "id": "16160864-33f0-4267-ba49-42229ae9390d",
   "metadata": {},
   "outputs": [
    {
     "name": "stdout",
     "output_type": "stream",
     "text": [
      "1\n"
     ]
    }
   ],
   "source": [
    "b = \"kamal 123\"\n",
    "print(b[-3])"
   ]
  },
  {
   "cell_type": "code",
   "execution_count": 24,
   "id": "c50438c3-039b-4756-816b-124d1c78a0ab",
   "metadata": {},
   "outputs": [
    {
     "name": "stdout",
     "output_type": "stream",
     "text": [
      "l\n"
     ]
    }
   ],
   "source": [
    "c = 'kamal_1'\n",
    "print(c[-3])"
   ]
  },
  {
   "cell_type": "code",
   "execution_count": 28,
   "id": "7c6b3265-4abc-48e1-ac9d-c1e820177528",
   "metadata": {},
   "outputs": [
    {
     "name": "stdout",
     "output_type": "stream",
     "text": [
      "ama\n"
     ]
    }
   ],
   "source": [
    "# slicing \n",
    "a = \"kamal\" \n",
    "print(a[1:4])"
   ]
  },
  {
   "cell_type": "code",
   "execution_count": 30,
   "id": "547051b8-c6e4-4025-b4c1-99d7c4d23d8b",
   "metadata": {},
   "outputs": [
    {
     "name": "stdout",
     "output_type": "stream",
     "text": [
      "amal\n"
     ]
    }
   ],
   "source": [
    "a = \"kamal\" \n",
    "print(a[1:])"
   ]
  },
  {
   "cell_type": "code",
   "execution_count": 32,
   "id": "cd3617b0-2ef3-4df1-8053-ba99903e3921",
   "metadata": {},
   "outputs": [
    {
     "name": "stdout",
     "output_type": "stream",
     "text": [
      "kam\n"
     ]
    }
   ],
   "source": [
    "a = \"kamal\" \n",
    "print(a[:3])"
   ]
  },
  {
   "cell_type": "markdown",
   "id": "f59b7172-56e4-42be-8f54-95d28c5597de",
   "metadata": {},
   "source": [
    "# string functions and operstions "
   ]
  },
  {
   "cell_type": "code",
   "execution_count": 35,
   "id": "65992987-ca4b-4cd6-9b9a-839f752cd344",
   "metadata": {},
   "outputs": [
    {
     "name": "stdout",
     "output_type": "stream",
     "text": [
      "ramkumar\n"
     ]
    }
   ],
   "source": [
    "# Adding strings\n",
    "a = \"ram\"\n",
    "b = \"kumar\"\n",
    "add = a + b\n",
    "print (add)"
   ]
  },
  {
   "cell_type": "code",
   "execution_count": 38,
   "id": "81b516fc-e91a-4594-a391-c53989becd94",
   "metadata": {},
   "outputs": [
    {
     "name": "stdout",
     "output_type": "stream",
     "text": [
      "ram kumar\n"
     ]
    }
   ],
   "source": [
    "a = \"ram\"\n",
    "b = \"kumar\"\n",
    "add = a + \" \" + b\n",
    "print (add)"
   ]
  },
  {
   "cell_type": "code",
   "execution_count": 44,
   "id": "309c67e4-b3a4-464e-9dce-3bf916a89ccd",
   "metadata": {},
   "outputs": [
    {
     "data": {
      "text/plain": [
       "'shyam'"
      ]
     },
     "execution_count": 44,
     "metadata": {},
     "output_type": "execute_result"
    }
   ],
   "source": [
    "# lower method \n",
    "a = 'SHYAM' \n",
    "a.lower()\n"
   ]
  },
  {
   "cell_type": "code",
   "execution_count": 46,
   "id": "4c24fba9-eb10-418e-b5b6-a87c8401d0d5",
   "metadata": {},
   "outputs": [
    {
     "data": {
      "text/plain": [
       "'SHYAM'"
      ]
     },
     "execution_count": 46,
     "metadata": {},
     "output_type": "execute_result"
    }
   ],
   "source": [
    "# upper method \n",
    "a = 'shyam' \n",
    "a.upper()"
   ]
  },
  {
   "cell_type": "code",
   "execution_count": 50,
   "id": "c0f04e96-593f-4749-8f45-9727f7a2811d",
   "metadata": {},
   "outputs": [
    {
     "data": {
      "text/plain": [
       "6"
      ]
     },
     "execution_count": 50,
     "metadata": {},
     "output_type": "execute_result"
    }
   ],
   "source": [
    "# length method\n",
    "a =\"dinesh\"\n",
    "len(a)"
   ]
  },
  {
   "cell_type": "code",
   "execution_count": 52,
   "id": "a02cc469-5a13-4c7b-94b6-a1e8ca09a68b",
   "metadata": {},
   "outputs": [
    {
     "data": {
      "text/plain": [
       "['dinesh', 'is', 'a', 'good', 'boy']"
      ]
     },
     "execution_count": 52,
     "metadata": {},
     "output_type": "execute_result"
    }
   ],
   "source": [
    "# split function\n",
    "a =\"dinesh is a good boy\"\n",
    "a.split()"
   ]
  },
  {
   "cell_type": "code",
   "execution_count": 56,
   "id": "e314b23f-dcd3-4ad1-aa5b-1d208e9ce2f4",
   "metadata": {},
   "outputs": [
    {
     "ename": "NameError",
     "evalue": "name 'join' is not defined",
     "output_type": "error",
     "traceback": [
      "\u001b[1;31m---------------------------------------------------------------------------\u001b[0m",
      "\u001b[1;31mNameError\u001b[0m                                 Traceback (most recent call last)",
      "Cell \u001b[1;32mIn[56], line 3\u001b[0m\n\u001b[0;32m      1\u001b[0m \u001b[38;5;66;03m# join function\u001b[39;00m\n\u001b[0;32m      2\u001b[0m a \u001b[38;5;241m=\u001b[39m\u001b[38;5;124m\"\u001b[39m\u001b[38;5;124mdinesh is a good boy\u001b[39m\u001b[38;5;124m\"\u001b[39m\n\u001b[1;32m----> 3\u001b[0m k\u001b[38;5;241m=\u001b[39mjoin(a)\n\u001b[0;32m      4\u001b[0m k\n",
      "\u001b[1;31mNameError\u001b[0m: name 'join' is not defined"
     ]
    }
   ],
   "source": [
    "# join function\n",
    "a =\"dinesh is a good boy\"\n",
    "k=join(a)\n",
    "k"
   ]
  },
  {
   "cell_type": "code",
   "execution_count": null,
   "id": "fecbfede-9a37-411f-b31e-874c1796fbf2",
   "metadata": {},
   "outputs": [],
   "source": []
  }
 ],
 "metadata": {
  "kernelspec": {
   "display_name": "Python 3 (ipykernel)",
   "language": "python",
   "name": "python3"
  },
  "language_info": {
   "codemirror_mode": {
    "name": "ipython",
    "version": 3
   },
   "file_extension": ".py",
   "mimetype": "text/x-python",
   "name": "python",
   "nbconvert_exporter": "python",
   "pygments_lexer": "ipython3",
   "version": "3.12.7"
  }
 },
 "nbformat": 4,
 "nbformat_minor": 5
}
