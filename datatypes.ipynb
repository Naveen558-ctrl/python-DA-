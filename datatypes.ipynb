{
 "cells": [
  {
   "cell_type": "markdown",
   "id": "eac72909-7596-4502-b0a8-c7fd8de0f24c",
   "metadata": {},
   "source": [
    "# int \n",
    "int starts from -infinty to infinity ,Represents whole numbers, both positive and negative, without any fractional part.\n",
    "Examples: -10, 0, 25.\n",
    "# float\n",
    "Represents real numbers that include a decimal point or are expressed in exponential form.\n",
    "Examples: 3.14, -0.001, 2.5e3 (which equals 2500).\n",
    "# complex\n",
    "Represents numbers with a real and an imaginary part, written in the form a + bj (where j is the imaginary unit).\n",
    "Examples: 3+4j, -2j, 1.5+0j.\n",
    "# Boolean\n",
    "Represents logical values: either True or False.\n",
    "Used in conditional statements and logical operations."
   ]
  },
  {
   "cell_type": "markdown",
   "id": "7afaaab2-52fe-4608-85a5-79c451b799db",
   "metadata": {},
   "source": [
    "# int examples \n",
    "a = 10\n",
    "abc = 20\n",
    "A = 20\n",
    "_c = 50\n",
    "a4 = 70\n",
    "ABC = 40\n",
    "A4A = 50\n",
    "_ccc = 10 \n",
    "_c4c = 30\n",
    "k = 6"
   ]
  },
  {
   "cell_type": "markdown",
   "id": "ea98c979-718b-4b9e-a979-6cc75f0c95ef",
   "metadata": {},
   "source": [
    "# float examples\n",
    "a = 3.1\n",
    "b = -4.444\n",
    "c = 5.6 ,"
   ]
  },
  {
   "cell_type": "markdown",
   "id": "2b2deea4-72b4-4888-b830-be914f71d339",
   "metadata": {},
   "source": [
    "# complex examples \n",
    "1 + oj\n",
    "2.3 + 3j\n",
    "33 + 4j"
   ]
  },
  {
   "cell_type": "markdown",
   "id": "bce3ab6a-a02d-4674-b043-3a974b209063",
   "metadata": {},
   "source": [
    "# int to float coversions "
   ]
  },
  {
   "cell_type": "code",
   "execution_count": 14,
   "id": "81e064e0-65b8-4b50-81c8-9aa3dd045c99",
   "metadata": {},
   "outputs": [
    {
     "name": "stdout",
     "output_type": "stream",
     "text": [
      "10.0\n"
     ]
    }
   ],
   "source": [
    "a = 10 \n",
    "b = float(a)\n",
    "print (b)"
   ]
  },
  {
   "cell_type": "code",
   "execution_count": 18,
   "id": "c4957df2-6dbf-43ba-8086-85786dbe1b87",
   "metadata": {},
   "outputs": [
    {
     "name": "stdout",
     "output_type": "stream",
     "text": [
      "-10.0\n"
     ]
    }
   ],
   "source": [
    "a = -10\n",
    "b = float (a)\n",
    "print(b)"
   ]
  },
  {
   "cell_type": "code",
   "execution_count": 20,
   "id": "d29c7fa5-b970-4290-a7f5-534e786e362a",
   "metadata": {},
   "outputs": [
    {
     "name": "stdout",
     "output_type": "stream",
     "text": [
      "20.0\n"
     ]
    }
   ],
   "source": [
    "ABC = 20\n",
    "d = float (ABC)\n",
    "print (d)"
   ]
  },
  {
   "cell_type": "code",
   "execution_count": 23,
   "id": "15fedbca-a8ea-49ae-a729-fdd998a5807c",
   "metadata": {},
   "outputs": [
    {
     "name": "stdout",
     "output_type": "stream",
     "text": [
      "50.0\n"
     ]
    }
   ],
   "source": [
    "_ab = 50\n",
    "a = float (_ab)\n",
    "print (a)"
   ]
  },
  {
   "cell_type": "code",
   "execution_count": 30,
   "id": "2fc027ab-865d-4860-86c7-83c7977950ef",
   "metadata": {},
   "outputs": [
    {
     "name": "stdout",
     "output_type": "stream",
     "text": [
      "2.0\n"
     ]
    }
   ],
   "source": [
    "k9 = 2\n",
    "p = float (k9)\n",
    "print (p)"
   ]
  },
  {
   "cell_type": "markdown",
   "id": "98225c82-115f-4c74-9851-241ccfebb4ee",
   "metadata": {},
   "source": [
    "# float to int conversions "
   ]
  },
  {
   "cell_type": "code",
   "execution_count": 33,
   "id": "5f2c4f15-3dbb-4c35-b3fc-c3775d4a50ec",
   "metadata": {},
   "outputs": [
    {
     "name": "stdout",
     "output_type": "stream",
     "text": [
      "49\n"
     ]
    }
   ],
   "source": [
    "z = 49.1 \n",
    "p = int (z)\n",
    "print (p)"
   ]
  },
  {
   "cell_type": "code",
   "execution_count": 35,
   "id": "53efe144-36d3-40f1-b9b8-2923c9e6d677",
   "metadata": {},
   "outputs": [
    {
     "name": "stdout",
     "output_type": "stream",
     "text": [
      "-3\n"
     ]
    }
   ],
   "source": [
    "v = -3.3\n",
    "l = int (v)\n",
    "print (l)"
   ]
  },
  {
   "cell_type": "code",
   "execution_count": 39,
   "id": "5e2d4111-b0f5-4a83-8f85-908b56b72d69",
   "metadata": {},
   "outputs": [
    {
     "name": "stdout",
     "output_type": "stream",
     "text": [
      "0\n"
     ]
    }
   ],
   "source": [
    "i = 0.3\n",
    "o = int(i)\n",
    "print (o)"
   ]
  },
  {
   "cell_type": "code",
   "execution_count": 41,
   "id": "2225297d-ab46-40e7-9890-01dbaccf50c9",
   "metadata": {},
   "outputs": [
    {
     "name": "stdout",
     "output_type": "stream",
     "text": [
      "3\n"
     ]
    }
   ],
   "source": [
    "ram = 3.55445654\n",
    "shyam = int (ram)\n",
    "print (shyam)"
   ]
  },
  {
   "cell_type": "code",
   "execution_count": 43,
   "id": "dd5d5919-c329-4857-ae1a-77737e801118",
   "metadata": {},
   "outputs": [
    {
     "name": "stdout",
     "output_type": "stream",
     "text": [
      "876565\n"
     ]
    }
   ],
   "source": [
    "value = 876565.76565\n",
    "ro = int (value)\n",
    "print (ro)"
   ]
  },
  {
   "cell_type": "markdown",
   "id": "6d3d4409-5f43-4ea8-84e7-6dcb39340e5c",
   "metadata": {},
   "source": [
    "# int to complex conversions"
   ]
  },
  {
   "cell_type": "code",
   "execution_count": 46,
   "id": "a9dd0834-727e-4345-982a-66649b2abb78",
   "metadata": {},
   "outputs": [
    {
     "name": "stdout",
     "output_type": "stream",
     "text": [
      "(24+0j)\n"
     ]
    }
   ],
   "source": [
    "i = 24 \n",
    "z = complex(i)\n",
    "print (z)"
   ]
  },
  {
   "cell_type": "code",
   "execution_count": 48,
   "id": "2d820c70-d20c-4ea4-b1b2-5918620852d7",
   "metadata": {},
   "outputs": [
    {
     "name": "stdout",
     "output_type": "stream",
     "text": [
      "(66666+0j)\n"
     ]
    }
   ],
   "source": [
    "RAM = 66666\n",
    "co = complex(RAM)\n",
    "print (co)"
   ]
  },
  {
   "cell_type": "code",
   "execution_count": 54,
   "id": "bfb3c0ca-c6e4-4570-97c3-9cd8e4da46c1",
   "metadata": {},
   "outputs": [
    {
     "name": "stdout",
     "output_type": "stream",
     "text": [
      "(66+0j)\n"
     ]
    }
   ],
   "source": [
    "fooooor = 66\n",
    "floor = complex (fooooor)\n",
    "print (floor)"
   ]
  },
  {
   "cell_type": "code",
   "execution_count": 56,
   "id": "b4f1f87e-4445-4fe7-be9c-b0ac99255264",
   "metadata": {},
   "outputs": [
    {
     "name": "stdout",
     "output_type": "stream",
     "text": [
      "(34+0j)\n"
     ]
    }
   ],
   "source": [
    "kor = 34\n",
    "tot = complex (kor)\n",
    "print(tot)"
   ]
  },
  {
   "cell_type": "code",
   "execution_count": 61,
   "id": "70c6af90-68e7-449f-82b1-c7fc2adc2037",
   "metadata": {},
   "outputs": [
    {
     "name": "stdout",
     "output_type": "stream",
     "text": [
      "(66+0j)\n"
     ]
    }
   ],
   "source": [
    "ccc = 66\n",
    "ppp = complex(ccc)\n",
    "print(ppp)"
   ]
  },
  {
   "cell_type": "markdown",
   "id": "56e6dc27-c7aa-4456-a9f1-e327e72d045e",
   "metadata": {},
   "source": [
    "# float to complex\n"
   ]
  },
  {
   "cell_type": "code",
   "execution_count": 65,
   "id": "f79f710b-f051-4eec-adb5-c334e54abfa1",
   "metadata": {},
   "outputs": [
    {
     "name": "stdout",
     "output_type": "stream",
     "text": [
      "(23.65465+0j)\n"
     ]
    }
   ],
   "source": [
    "float = 23.65465\n",
    "cot = complex (float)\n",
    "print(cot)"
   ]
  },
  {
   "cell_type": "code",
   "execution_count": 67,
   "id": "d4754a1d-f8dc-4733-87d9-978d653bf883",
   "metadata": {},
   "outputs": [
    {
     "name": "stdout",
     "output_type": "stream",
     "text": [
      "(-23.65465+0j)\n"
     ]
    }
   ],
   "source": [
    "floa = -23.65465\n",
    "cot = complex (floa)\n",
    "print(cot)"
   ]
  },
  {
   "cell_type": "code",
   "execution_count": 69,
   "id": "38286bc0-f4d0-478c-bec6-ac47f6a40270",
   "metadata": {},
   "outputs": [
    {
     "name": "stdout",
     "output_type": "stream",
     "text": [
      "(98.99+0j)\n"
     ]
    }
   ],
   "source": [
    "zebra = 98.99\n",
    "lion = complex (zebra)\n",
    "print(lion)"
   ]
  },
  {
   "cell_type": "code",
   "execution_count": 73,
   "id": "af1ee1ff-a067-4f54-8832-54986d0ddca9",
   "metadata": {},
   "outputs": [
    {
     "name": "stdout",
     "output_type": "stream",
     "text": [
      "(77777777.7+0j)\n"
     ]
    }
   ],
   "source": [
    "kkkk = 77777777.7\n",
    "ooooo = complex(kkkk)\n",
    "print(ooooo)"
   ]
  },
  {
   "cell_type": "code",
   "execution_count": 83,
   "id": "63169c3c-4518-444d-92f6-b18a2946c758",
   "metadata": {},
   "outputs": [
    {
     "name": "stdout",
     "output_type": "stream",
     "text": [
      "(565.55+0j)\n"
     ]
    }
   ],
   "source": [
    "jj = 565.55\n",
    "yy = complex (jj)\n",
    "print(yy)\n"
   ]
  },
  {
   "cell_type": "code",
   "execution_count": 81,
   "id": "09925b97-83e3-4f79-95ef-01b75b15595d",
   "metadata": {},
   "outputs": [
    {
     "ename": "TypeError",
     "evalue": "int() argument must be a string, a bytes-like object or a real number, not 'complex'",
     "output_type": "error",
     "traceback": [
      "\u001b[1;31m---------------------------------------------------------------------------\u001b[0m",
      "\u001b[1;31mTypeError\u001b[0m                                 Traceback (most recent call last)",
      "Cell \u001b[1;32mIn[81], line 2\u001b[0m\n\u001b[0;32m      1\u001b[0m a \u001b[38;5;241m=\u001b[39m \u001b[38;5;241m23\u001b[39m \u001b[38;5;241m+\u001b[39m \u001b[38;5;241m4\u001b[39mj\n\u001b[1;32m----> 2\u001b[0m b \u001b[38;5;241m=\u001b[39m \u001b[38;5;28mint\u001b[39m (a)\n\u001b[0;32m      3\u001b[0m \u001b[38;5;28mprint\u001b[39m (b)\n",
      "\u001b[1;31mTypeError\u001b[0m: int() argument must be a string, a bytes-like object or a real number, not 'complex'"
     ]
    }
   ],
   "source": [
    "# complex to int\n",
    "\n",
    "a = 23 + 4j\n",
    "b = int (a)\n",
    "print (b)"
   ]
  },
  {
   "cell_type": "code",
   "execution_count": 85,
   "id": "99ba03f3-54f5-45a9-99ca-541f5985a2d0",
   "metadata": {},
   "outputs": [
    {
     "ename": "TypeError",
     "evalue": "'float' object is not callable",
     "output_type": "error",
     "traceback": [
      "\u001b[1;31m---------------------------------------------------------------------------\u001b[0m",
      "\u001b[1;31mTypeError\u001b[0m                                 Traceback (most recent call last)",
      "Cell \u001b[1;32mIn[85], line 4\u001b[0m\n\u001b[0;32m      1\u001b[0m \u001b[38;5;66;03m# complex to float \u001b[39;00m\n\u001b[0;32m      3\u001b[0m a \u001b[38;5;241m=\u001b[39m \u001b[38;5;241m23\u001b[39m \u001b[38;5;241m+\u001b[39m \u001b[38;5;241m4\u001b[39mj\n\u001b[1;32m----> 4\u001b[0m b \u001b[38;5;241m=\u001b[39m \u001b[38;5;28mfloat\u001b[39m (a)\n\u001b[0;32m      5\u001b[0m \u001b[38;5;28mprint\u001b[39m (b)\n",
      "\u001b[1;31mTypeError\u001b[0m: 'float' object is not callable"
     ]
    }
   ],
   "source": [
    "# complex to float \n",
    "\n",
    "a = 23 + 4j\n",
    "b = float (a)\n",
    "print (b)"
   ]
  },
  {
   "cell_type": "markdown",
   "id": "70b6f856-2990-4c45-945d-c60f234db916",
   "metadata": {},
   "source": [
    "1. naveen  = 9866\n",
    "ram  = 1999\n",
    "abhishek = 4444\n",
    "apply arithmetic operators and assignment operators \n",
    "\n",
    "Arithmetic operators \n"
   ]
  },
  {
   "cell_type": "code",
   "execution_count": 99,
   "id": "d818273c-9794-4e6f-939b-2c504cda7f27",
   "metadata": {},
   "outputs": [
    {
     "name": "stdout",
     "output_type": "stream",
     "text": [
      "16309\n"
     ]
    }
   ],
   "source": [
    "# addition\n",
    "naveen  = 9866\n",
    "ram  = 1999\n",
    "abhishek = 4444\n",
    "\n",
    "output = (naveen + ram + abhishek)\n",
    "print (output)"
   ]
  },
  {
   "cell_type": "code",
   "execution_count": 105,
   "id": "98dabb49-9204-4bf4-b015-e3c71350dceb",
   "metadata": {},
   "outputs": [
    {
     "data": {
      "text/plain": [
       "3423"
      ]
     },
     "execution_count": 105,
     "metadata": {},
     "output_type": "execute_result"
    }
   ],
   "source": [
    "# subtraction \n",
    "naveen  = 9866\n",
    "ram  = 1999\n",
    "abhishek = 4444\n",
    "output = naveen-ram-abhishek\n",
    "output"
   ]
  },
  {
   "cell_type": "code",
   "execution_count": 109,
   "id": "bb0fac89-f759-457e-892c-b213bab2a216",
   "metadata": {},
   "outputs": [
    {
     "data": {
      "text/plain": [
       "87645163496"
      ]
     },
     "execution_count": 109,
     "metadata": {},
     "output_type": "execute_result"
    }
   ],
   "source": [
    "# multiplication\n",
    "naveen  = 9866\n",
    "ram  = 1999\n",
    "abhishek = 4444\n",
    "output = naveen*ram*abhishek\n",
    "output"
   ]
  },
  {
   "cell_type": "code",
   "execution_count": 111,
   "id": "5896784b-66d0-4b92-a84d-01675e513b6e",
   "metadata": {},
   "outputs": [
    {
     "data": {
      "text/plain": [
       "0.001110591299249985"
      ]
     },
     "execution_count": 111,
     "metadata": {},
     "output_type": "execute_result"
    }
   ],
   "source": [
    "# division\n",
    "naveen  = 9866\n",
    "ram  = 1999\n",
    "abhishek = 4444\n",
    "output = naveen/ram/abhishek\n",
    "output"
   ]
  },
  {
   "cell_type": "code",
   "execution_count": 115,
   "id": "69918dbb-c00b-4be5-9a3f-f468f9bea95d",
   "metadata": {},
   "outputs": [
    {
     "data": {
      "text/plain": [
       "0"
      ]
     },
     "execution_count": 115,
     "metadata": {},
     "output_type": "execute_result"
    }
   ],
   "source": [
    "# float\n",
    "naveen  = 9866\n",
    "ram  = 1999\n",
    "abhishek = 4444\n",
    "output = naveen//ram//abhishek\n",
    "output"
   ]
  },
  {
   "cell_type": "code",
   "execution_count": 117,
   "id": "127cea8f-3212-4f30-add8-58bf85e2b5ae",
   "metadata": {},
   "outputs": [
    {
     "data": {
      "text/plain": [
       "1870"
      ]
     },
     "execution_count": 117,
     "metadata": {},
     "output_type": "execute_result"
    }
   ],
   "source": [
    "# modulus \n",
    "naveen  = 9866\n",
    "ram  = 1999\n",
    "abhishek = 4444\n",
    "output = naveen%ram%abhishek\n",
    "output"
   ]
  },
  {
   "cell_type": "code",
   "execution_count": 123,
   "id": "882afb9a-15c3-4b80-b00d-ec89a1187c09",
   "metadata": {},
   "outputs": [
    {
     "data": {
      "text/plain": [
       "68123262423989233971191949923948429312"
      ]
     },
     "execution_count": 123,
     "metadata": {},
     "output_type": "execute_result"
    }
   ],
   "source": [
    "# exponential\n",
    "naveen  = 98\n",
    "ram  = 19\n",
    "output = naveen**ram\n",
    "output"
   ]
  },
  {
   "cell_type": "code",
   "execution_count": 125,
   "id": "ee8cfce6-9419-464c-981d-40e6922d882a",
   "metadata": {},
   "outputs": [],
   "source": [
    "#assignment operators"
   ]
  },
  {
   "cell_type": "code",
   "execution_count": 128,
   "id": "f8734178-70c9-4acc-9d1a-019925f368e4",
   "metadata": {},
   "outputs": [
    {
     "data": {
      "text/plain": [
       "11865"
      ]
     },
     "execution_count": 128,
     "metadata": {},
     "output_type": "execute_result"
    }
   ],
   "source": [
    "#addition assignment\n",
    "naveen  = 9866\n",
    "ram  = 1999\n",
    "naveen += ram\n",
    "naveen"
   ]
  },
  {
   "cell_type": "code",
   "execution_count": 130,
   "id": "fcafb79e-fa29-4a0a-9a95-066b9aa9c3b1",
   "metadata": {},
   "outputs": [
    {
     "data": {
      "text/plain": [
       "7867"
      ]
     },
     "execution_count": 130,
     "metadata": {},
     "output_type": "execute_result"
    }
   ],
   "source": [
    "naveen  = 9866\n",
    "ram  = 1999\n",
    "naveen -= ram\n",
    "naveen"
   ]
  },
  {
   "cell_type": "code",
   "execution_count": 132,
   "id": "9a48d926-b2bf-43b5-b52e-6df9090bbd1b",
   "metadata": {},
   "outputs": [
    {
     "data": {
      "text/plain": [
       "19722134"
      ]
     },
     "execution_count": 132,
     "metadata": {},
     "output_type": "execute_result"
    }
   ],
   "source": [
    "naveen  = 9866\n",
    "ram  = 1999\n",
    "naveen *= ram\n",
    "naveen"
   ]
  },
  {
   "cell_type": "code",
   "execution_count": 134,
   "id": "b20292cf-7100-4c01-9b95-0b85df080295",
   "metadata": {},
   "outputs": [
    {
     "data": {
      "text/plain": [
       "4.9354677338669335"
      ]
     },
     "execution_count": 134,
     "metadata": {},
     "output_type": "execute_result"
    }
   ],
   "source": [
    "naveen  = 9866\n",
    "ram  = 1999\n",
    "naveen /= ram\n",
    "naveen"
   ]
  },
  {
   "cell_type": "code",
   "execution_count": 136,
   "id": "686fcc68-7052-4cca-8c63-77fc2b33e971",
   "metadata": {},
   "outputs": [
    {
     "data": {
      "text/plain": [
       "1870"
      ]
     },
     "execution_count": 136,
     "metadata": {},
     "output_type": "execute_result"
    }
   ],
   "source": [
    "naveen  = 9866\n",
    "ram  = 1999\n",
    "naveen %= ram\n",
    "naveen"
   ]
  },
  {
   "cell_type": "code",
   "execution_count": 138,
   "id": "fe271073-f07e-48bb-9f2a-9e3edd4e9fb3",
   "metadata": {},
   "outputs": [
    {
     "ename": "ValueError",
     "evalue": "Exceeds the limit (4300 digits) for integer string conversion; use sys.set_int_max_str_digits() to increase the limit",
     "output_type": "error",
     "traceback": [
      "\u001b[1;31m---------------------------------------------------------------------------\u001b[0m",
      "\u001b[1;31mValueError\u001b[0m                                Traceback (most recent call last)",
      "File \u001b[1;32m~\\anaconda3\\Lib\\site-packages\\IPython\\core\\formatters.py:711\u001b[0m, in \u001b[0;36mPlainTextFormatter.__call__\u001b[1;34m(self, obj)\u001b[0m\n\u001b[0;32m    704\u001b[0m stream \u001b[38;5;241m=\u001b[39m StringIO()\n\u001b[0;32m    705\u001b[0m printer \u001b[38;5;241m=\u001b[39m pretty\u001b[38;5;241m.\u001b[39mRepresentationPrinter(stream, \u001b[38;5;28mself\u001b[39m\u001b[38;5;241m.\u001b[39mverbose,\n\u001b[0;32m    706\u001b[0m     \u001b[38;5;28mself\u001b[39m\u001b[38;5;241m.\u001b[39mmax_width, \u001b[38;5;28mself\u001b[39m\u001b[38;5;241m.\u001b[39mnewline,\n\u001b[0;32m    707\u001b[0m     max_seq_length\u001b[38;5;241m=\u001b[39m\u001b[38;5;28mself\u001b[39m\u001b[38;5;241m.\u001b[39mmax_seq_length,\n\u001b[0;32m    708\u001b[0m     singleton_pprinters\u001b[38;5;241m=\u001b[39m\u001b[38;5;28mself\u001b[39m\u001b[38;5;241m.\u001b[39msingleton_printers,\n\u001b[0;32m    709\u001b[0m     type_pprinters\u001b[38;5;241m=\u001b[39m\u001b[38;5;28mself\u001b[39m\u001b[38;5;241m.\u001b[39mtype_printers,\n\u001b[0;32m    710\u001b[0m     deferred_pprinters\u001b[38;5;241m=\u001b[39m\u001b[38;5;28mself\u001b[39m\u001b[38;5;241m.\u001b[39mdeferred_printers)\n\u001b[1;32m--> 711\u001b[0m printer\u001b[38;5;241m.\u001b[39mpretty(obj)\n\u001b[0;32m    712\u001b[0m printer\u001b[38;5;241m.\u001b[39mflush()\n\u001b[0;32m    713\u001b[0m \u001b[38;5;28;01mreturn\u001b[39;00m stream\u001b[38;5;241m.\u001b[39mgetvalue()\n",
      "File \u001b[1;32m~\\anaconda3\\Lib\\site-packages\\IPython\\lib\\pretty.py:394\u001b[0m, in \u001b[0;36mRepresentationPrinter.pretty\u001b[1;34m(self, obj)\u001b[0m\n\u001b[0;32m    391\u001b[0m \u001b[38;5;28;01mfor\u001b[39;00m \u001b[38;5;28mcls\u001b[39m \u001b[38;5;129;01min\u001b[39;00m _get_mro(obj_class):\n\u001b[0;32m    392\u001b[0m     \u001b[38;5;28;01mif\u001b[39;00m \u001b[38;5;28mcls\u001b[39m \u001b[38;5;129;01min\u001b[39;00m \u001b[38;5;28mself\u001b[39m\u001b[38;5;241m.\u001b[39mtype_pprinters:\n\u001b[0;32m    393\u001b[0m         \u001b[38;5;66;03m# printer registered in self.type_pprinters\u001b[39;00m\n\u001b[1;32m--> 394\u001b[0m         \u001b[38;5;28;01mreturn\u001b[39;00m \u001b[38;5;28mself\u001b[39m\u001b[38;5;241m.\u001b[39mtype_pprinters[\u001b[38;5;28mcls\u001b[39m](obj, \u001b[38;5;28mself\u001b[39m, cycle)\n\u001b[0;32m    395\u001b[0m     \u001b[38;5;28;01melse\u001b[39;00m:\n\u001b[0;32m    396\u001b[0m         \u001b[38;5;66;03m# deferred printer\u001b[39;00m\n\u001b[0;32m    397\u001b[0m         printer \u001b[38;5;241m=\u001b[39m \u001b[38;5;28mself\u001b[39m\u001b[38;5;241m.\u001b[39m_in_deferred_types(\u001b[38;5;28mcls\u001b[39m)\n",
      "File \u001b[1;32m~\\anaconda3\\Lib\\site-packages\\IPython\\lib\\pretty.py:787\u001b[0m, in \u001b[0;36m_repr_pprint\u001b[1;34m(obj, p, cycle)\u001b[0m\n\u001b[0;32m    785\u001b[0m \u001b[38;5;250m\u001b[39m\u001b[38;5;124;03m\"\"\"A pprint that just redirects to the normal repr function.\"\"\"\u001b[39;00m\n\u001b[0;32m    786\u001b[0m \u001b[38;5;66;03m# Find newlines and replace them with p.break_()\u001b[39;00m\n\u001b[1;32m--> 787\u001b[0m output \u001b[38;5;241m=\u001b[39m \u001b[38;5;28mrepr\u001b[39m(obj)\n\u001b[0;32m    788\u001b[0m lines \u001b[38;5;241m=\u001b[39m output\u001b[38;5;241m.\u001b[39msplitlines()\n\u001b[0;32m    789\u001b[0m \u001b[38;5;28;01mwith\u001b[39;00m p\u001b[38;5;241m.\u001b[39mgroup():\n",
      "\u001b[1;31mValueError\u001b[0m: Exceeds the limit (4300 digits) for integer string conversion; use sys.set_int_max_str_digits() to increase the limit"
     ]
    }
   ],
   "source": [
    "naveen  = 9866\n",
    "ram  = 1999\n",
    "naveen **= ram\n",
    "naveen"
   ]
  },
  {
   "cell_type": "code",
   "execution_count": null,
   "id": "250ecdd6-4eef-4faa-be2b-785dbd164495",
   "metadata": {},
   "outputs": [],
   "source": []
  }
 ],
 "metadata": {
  "kernelspec": {
   "display_name": "Python 3 (ipykernel)",
   "language": "python",
   "name": "python3"
  },
  "language_info": {
   "codemirror_mode": {
    "name": "ipython",
    "version": 3
   },
   "file_extension": ".py",
   "mimetype": "text/x-python",
   "name": "python",
   "nbconvert_exporter": "python",
   "pygments_lexer": "ipython3",
   "version": "3.12.7"
  }
 },
 "nbformat": 4,
 "nbformat_minor": 5
}
