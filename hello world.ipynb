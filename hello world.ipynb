{
 "cells": [
  {
   "cell_type": "code",
   "execution_count": 1,
   "id": "efe0a9a1-97bb-42ab-90de-33a679a99a38",
   "metadata": {},
   "outputs": [
    {
     "name": "stdout",
     "output_type": "stream",
     "text": [
      "Hello World\n"
     ]
    }
   ],
   "source": [
    "print(\"Hello World\")"
   ]
  },
  {
   "cell_type": "code",
   "execution_count": 19,
   "id": "2153b036-4e2e-4081-b4de-6e292e57be6b",
   "metadata": {},
   "outputs": [],
   "source": [
    "# what is python ?\n",
    "# Python is a high-level, interpreted programming language known for its simplicity and readability. Created by Guido van Rossum in 1991, it emphasizes code clarity and developer productivity. Python supports multiple programming paradigms, including object-oriented, procedural, and functional programming.\n",
    "                                                                                                                                      "
   ]
  },
  {
   "cell_type": "code",
   "execution_count": 21,
   "id": "7940cd66-53da-459f-9cb8-86605745757c",
   "metadata": {},
   "outputs": [],
   "source": [
    "# why python ?\n",
    "# Python is widely used because of its versatility, simplicity, and power. Here are the key reasons why you might choose Python:"
   ]
  },
  {
   "cell_type": "code",
   "execution_count": 23,
   "id": "fd933c90-b9b8-4937-8a04-274046c42b17",
   "metadata": {},
   "outputs": [],
   "source": [
    "# Advantages of pyhton\n",
    "# 1.Simple and Readable Syntax\n",
    "# 2.High Productivity\n",
    "# 3.Extensive Libraries and Frameworks"
   ]
  },
  {
   "cell_type": "code",
   "execution_count": 25,
   "id": "94485886-23d9-4edd-908b-d6149d35e4ad",
   "metadata": {},
   "outputs": [],
   "source": [
    "# Disadvantages of python\n",
    "# 1.Slower Execution Speed\n",
    "# 2.Dependency on Libraries\n",
    "# 3.Not Ideal for Mobile Development"
   ]
  },
  {
   "cell_type": "code",
   "execution_count": 27,
   "id": "16bda989-e6d6-43aa-88c1-90077307474d",
   "metadata": {},
   "outputs": [],
   "source": [
    "# Applications of python\n",
    "# 1. Web Development\n",
    "# 2. Data Science and Analytics\n",
    "# 3. Machine Learning and Artificial Intelligence\n"
   ]
  },
  {
   "cell_type": "code",
   "execution_count": 1,
   "id": "3416ad68-f1e4-42be-96de-5f5999f6c593",
   "metadata": {},
   "outputs": [
    {
     "name": "stdout",
     "output_type": "stream",
     "text": [
      "10\n"
     ]
    }
   ],
   "source": [
    "a = 10\n",
    "print (a)"
   ]
  },
  {
   "cell_type": "code",
   "execution_count": 3,
   "id": "7ff0c516-1609-4411-abdb-989d648226fb",
   "metadata": {},
   "outputs": [
    {
     "name": "stdout",
     "output_type": "stream",
     "text": [
      "143\n"
     ]
    }
   ],
   "source": [
    "a1 = 143 \n",
    "print (a1)"
   ]
  },
  {
   "cell_type": "code",
   "execution_count": 5,
   "id": "0089fc9c-c771-4fd7-a387-3b2a4f3941aa",
   "metadata": {},
   "outputs": [
    {
     "name": "stdout",
     "output_type": "stream",
     "text": [
      "5\n"
     ]
    }
   ],
   "source": [
    "_a = 5\n",
    "print(_a)"
   ]
  },
  {
   "cell_type": "code",
   "execution_count": 7,
   "id": "745adbf7-e62d-4cb0-8110-66b224504d82",
   "metadata": {},
   "outputs": [
    {
     "name": "stdout",
     "output_type": "stream",
     "text": [
      "23\n"
     ]
    }
   ],
   "source": [
    "A = 23\n",
    "print (A)"
   ]
  },
  {
   "cell_type": "code",
   "execution_count": 9,
   "id": "ad61e72c-1057-4615-92c9-e73f0c5f178f",
   "metadata": {},
   "outputs": [
    {
     "name": "stdout",
     "output_type": "stream",
     "text": [
      "19\n"
     ]
    }
   ],
   "source": [
    "a = 10\n",
    "b = 9 \n",
    "print(a + b)"
   ]
  },
  {
   "cell_type": "code",
   "execution_count": 11,
   "id": "8f3fd80c-a7d1-4e14-b5d0-a83c57860821",
   "metadata": {},
   "outputs": [
    {
     "name": "stdout",
     "output_type": "stream",
     "text": [
      "0\n"
     ]
    }
   ],
   "source": [
    "a = 10\n",
    "b = 10\n",
    "print (a - b)"
   ]
  },
  {
   "cell_type": "code",
   "execution_count": 15,
   "id": "fc3ebe7a-fc62-4c31-8136-57949335ca81",
   "metadata": {},
   "outputs": [
    {
     "name": "stdout",
     "output_type": "stream",
     "text": [
      "6\n"
     ]
    }
   ],
   "source": [
    "a = 1\n",
    "b = 2\n",
    "c = 3\n",
    "print (a+b+c)"
   ]
  },
  {
   "cell_type": "code",
   "execution_count": 17,
   "id": "93aa3df8-b56a-458a-95de-161189c96b34",
   "metadata": {},
   "outputs": [
    {
     "name": "stdout",
     "output_type": "stream",
     "text": [
      "123\n"
     ]
    }
   ],
   "source": [
    "rad = 123 \n",
    "print (rad)"
   ]
  },
  {
   "cell_type": "code",
   "execution_count": 28,
   "id": "3724e0df-2a13-4b8d-92e5-90dccc6ec5cc",
   "metadata": {},
   "outputs": [
    {
     "name": "stdout",
     "output_type": "stream",
     "text": [
      "123\n"
     ]
    }
   ],
   "source": [
    "_ko = 123\n",
    "print (_ko)"
   ]
  },
  {
   "cell_type": "code",
   "execution_count": 30,
   "id": "afed1ab5-b01a-49d5-9e4c-67fb0f2405f6",
   "metadata": {},
   "outputs": [
    {
     "name": "stdout",
     "output_type": "stream",
     "text": [
      "555\n"
     ]
    }
   ],
   "source": [
    "KO = 555\n",
    "print(KO)"
   ]
  },
  {
   "cell_type": "code",
   "execution_count": 32,
   "id": "28aa223f-96ae-46ca-bd3f-b43af200dccc",
   "metadata": {},
   "outputs": [
    {
     "name": "stdout",
     "output_type": "stream",
     "text": [
      "949400\n"
     ]
    }
   ],
   "source": [
    "naveen123 =  949400\n",
    "print(naveen123)"
   ]
  },
  {
   "cell_type": "code",
   "execution_count": 34,
   "id": "fd69b520-c6f3-4264-8421-9ae9de29761d",
   "metadata": {},
   "outputs": [
    {
     "name": "stdout",
     "output_type": "stream",
     "text": [
      "99\n"
     ]
    }
   ],
   "source": [
    "_KO = 99\n",
    "print(_KO)"
   ]
  },
  {
   "cell_type": "code",
   "execution_count": 36,
   "id": "f37dfa5b-9b65-4bcd-9ab1-7fa3bf0c528b",
   "metadata": {},
   "outputs": [
    {
     "name": "stdout",
     "output_type": "stream",
     "text": [
      "66\n"
     ]
    }
   ],
   "source": [
    "h = 66\n",
    "print (h)"
   ]
  },
  {
   "cell_type": "code",
   "execution_count": 38,
   "id": "044c6901-2efc-4866-b962-134c5dde09f6",
   "metadata": {},
   "outputs": [
    {
     "name": "stdout",
     "output_type": "stream",
     "text": [
      "60\n"
     ]
    }
   ],
   "source": [
    "a = 12\n",
    "b = 5 \n",
    "print (a*b) "
   ]
  },
  {
   "cell_type": "code",
   "execution_count": 40,
   "id": "9eafb326-bd07-43fa-9e86-11fd7db7dc53",
   "metadata": {},
   "outputs": [
    {
     "name": "stdout",
     "output_type": "stream",
     "text": [
      "5\n"
     ]
    }
   ],
   "source": [
    "a = 7 \n",
    "b = 2\n",
    "print (a-b)"
   ]
  },
  {
   "cell_type": "code",
   "execution_count": 42,
   "id": "b78df52e-0582-4932-b08e-8c6c2fe767ab",
   "metadata": {},
   "outputs": [
    {
     "name": "stdout",
     "output_type": "stream",
     "text": [
      "10\n"
     ]
    }
   ],
   "source": [
    "kamal = 10 \n",
    "print (kamal)"
   ]
  },
  {
   "cell_type": "code",
   "execution_count": 44,
   "id": "de1f8d68-1cb0-494c-8fe6-f26f5f2dcda7",
   "metadata": {},
   "outputs": [
    {
     "name": "stdout",
     "output_type": "stream",
     "text": [
      "12345\n"
     ]
    }
   ],
   "source": [
    "_abc = 12345\n",
    "print (_abc)"
   ]
  },
  {
   "cell_type": "code",
   "execution_count": 46,
   "id": "48bd2ee6-ace7-4787-b6e8-147c344926ff",
   "metadata": {},
   "outputs": [
    {
     "name": "stdout",
     "output_type": "stream",
     "text": [
      "6.0\n"
     ]
    }
   ],
   "source": [
    "a = 60 \n",
    "b = 10\n",
    "print(a/b)"
   ]
  },
  {
   "cell_type": "code",
   "execution_count": 48,
   "id": "d1c11ec4-bee5-4cda-85b3-b2a01b218d43",
   "metadata": {},
   "outputs": [
    {
     "ename": "SyntaxError",
     "evalue": "invalid syntax (3828324299.py, line 1)",
     "output_type": "error",
     "traceback": [
      "\u001b[1;36m  Cell \u001b[1;32mIn[48], line 1\u001b[1;36m\u001b[0m\n\u001b[1;33m    if = 10\u001b[0m\n\u001b[1;37m       ^\u001b[0m\n\u001b[1;31mSyntaxError\u001b[0m\u001b[1;31m:\u001b[0m invalid syntax\n"
     ]
    }
   ],
   "source": [
    "if = 10\n",
    "print (if)"
   ]
  },
  {
   "cell_type": "code",
   "execution_count": 50,
   "id": "4f3eaa1f-2004-400f-8615-ea7125819183",
   "metadata": {},
   "outputs": [
    {
     "ename": "NameError",
     "evalue": "name 'abc' is not defined",
     "output_type": "error",
     "traceback": [
      "\u001b[1;31m---------------------------------------------------------------------------\u001b[0m",
      "\u001b[1;31mNameError\u001b[0m                                 Traceback (most recent call last)",
      "Cell \u001b[1;32mIn[50], line 2\u001b[0m\n\u001b[0;32m      1\u001b[0m ABC \u001b[38;5;241m=\u001b[39m \u001b[38;5;241m123\u001b[39m\n\u001b[1;32m----> 2\u001b[0m \u001b[38;5;28mprint\u001b[39m (abc)\n",
      "\u001b[1;31mNameError\u001b[0m: name 'abc' is not defined"
     ]
    }
   ],
   "source": [
    "ABC = 123\n",
    "print (abc)"
   ]
  },
  {
   "cell_type": "code",
   "execution_count": 54,
   "id": "6287c1dd-a592-48d3-9b0c-9b1bc3476b38",
   "metadata": {},
   "outputs": [
    {
     "ename": "SyntaxError",
     "evalue": "invalid decimal literal (428572462.py, line 1)",
     "output_type": "error",
     "traceback": [
      "\u001b[1;36m  Cell \u001b[1;32mIn[54], line 1\u001b[1;36m\u001b[0m\n\u001b[1;33m    1a = 12\u001b[0m\n\u001b[1;37m    ^\u001b[0m\n\u001b[1;31mSyntaxError\u001b[0m\u001b[1;31m:\u001b[0m invalid decimal literal\n"
     ]
    }
   ],
   "source": [
    "1a = 12\n",
    "print(1a)"
   ]
  },
  {
   "cell_type": "code",
   "execution_count": 62,
   "id": "5f666e5f-8ffd-48ee-910d-3040d154da43",
   "metadata": {},
   "outputs": [
    {
     "ename": "SyntaxError",
     "evalue": "cannot assign to literal here. Maybe you meant '==' instead of '='? (4179716776.py, line 1)",
     "output_type": "error",
     "traceback": [
      "\u001b[1;36m  Cell \u001b[1;32mIn[62], line 1\u001b[1;36m\u001b[0m\n\u001b[1;33m    \"a\" = 10\u001b[0m\n\u001b[1;37m    ^\u001b[0m\n\u001b[1;31mSyntaxError\u001b[0m\u001b[1;31m:\u001b[0m cannot assign to literal here. Maybe you meant '==' instead of '='?\n"
     ]
    }
   ],
   "source": [
    "\"a\" = 10\n",
    "print (\"a\")"
   ]
  },
  {
   "cell_type": "code",
   "execution_count": 64,
   "id": "c59af969-f107-46b2-8f20-ef2cc3411ce7",
   "metadata": {},
   "outputs": [
    {
     "ename": "NameError",
     "evalue": "name 'B' is not defined",
     "output_type": "error",
     "traceback": [
      "\u001b[1;31m---------------------------------------------------------------------------\u001b[0m",
      "\u001b[1;31mNameError\u001b[0m                                 Traceback (most recent call last)",
      "Cell \u001b[1;32mIn[64], line 3\u001b[0m\n\u001b[0;32m      1\u001b[0m a \u001b[38;5;241m=\u001b[39m \u001b[38;5;241m1\u001b[39m\n\u001b[0;32m      2\u001b[0m b \u001b[38;5;241m=\u001b[39m \u001b[38;5;241m2\u001b[39m\n\u001b[1;32m----> 3\u001b[0m \u001b[38;5;28mprint\u001b[39m (B \u001b[38;5;241m-\u001b[39m A)\n",
      "\u001b[1;31mNameError\u001b[0m: name 'B' is not defined"
     ]
    }
   ],
   "source": [
    "a = 1\n",
    "b = 2\n",
    "print (B - A)"
   ]
  },
  {
   "cell_type": "code",
   "execution_count": 74,
   "id": "d52f8399-0023-4fd3-bc76-c8956aec0ecc",
   "metadata": {},
   "outputs": [
    {
     "ename": "NameError",
     "evalue": "name 'o' is not defined",
     "output_type": "error",
     "traceback": [
      "\u001b[1;31m---------------------------------------------------------------------------\u001b[0m",
      "\u001b[1;31mNameError\u001b[0m                                 Traceback (most recent call last)",
      "Cell \u001b[1;32mIn[74], line 2\u001b[0m\n\u001b[0;32m      1\u001b[0m O \u001b[38;5;241m=\u001b[39m \u001b[38;5;241m7\u001b[39m\n\u001b[1;32m----> 2\u001b[0m \u001b[38;5;28mprint\u001b[39m (o)\n",
      "\u001b[1;31mNameError\u001b[0m: name 'o' is not defined"
     ]
    }
   ],
   "source": [
    "O = 7\n",
    "print (o)"
   ]
  },
  {
   "cell_type": "code",
   "execution_count": 76,
   "id": "75436ee2-827d-42e8-9387-f4173750ad94",
   "metadata": {},
   "outputs": [
    {
     "ename": "SyntaxError",
     "evalue": "invalid syntax (3496458855.py, line 1)",
     "output_type": "error",
     "traceback": [
      "\u001b[1;36m  Cell \u001b[1;32mIn[76], line 1\u001b[1;36m\u001b[0m\n\u001b[1;33m    else = 60\u001b[0m\n\u001b[1;37m    ^\u001b[0m\n\u001b[1;31mSyntaxError\u001b[0m\u001b[1;31m:\u001b[0m invalid syntax\n"
     ]
    }
   ],
   "source": [
    "else = 60\n",
    "print (else)"
   ]
  },
  {
   "cell_type": "code",
   "execution_count": 78,
   "id": "960b3895-fcfc-42c1-a197-41508524740f",
   "metadata": {},
   "outputs": [
    {
     "ename": "SyntaxError",
     "evalue": "invalid syntax (1452606820.py, line 3)",
     "output_type": "error",
     "traceback": [
      "\u001b[1;36m  Cell \u001b[1;32mIn[78], line 3\u001b[1;36m\u001b[0m\n\u001b[1;33m    print (u?f)\u001b[0m\n\u001b[1;37m            ^\u001b[0m\n\u001b[1;31mSyntaxError\u001b[0m\u001b[1;31m:\u001b[0m invalid syntax\n"
     ]
    }
   ],
   "source": [
    "U = 10\n",
    "?f = 7\n",
    "print (u?f)"
   ]
  },
  {
   "cell_type": "code",
   "execution_count": 80,
   "id": "ee048587-3696-48ab-b21a-6172283bef65",
   "metadata": {},
   "outputs": [
    {
     "ename": "SyntaxError",
     "evalue": "invalid syntax (3526138657.py, line 2)",
     "output_type": "error",
     "traceback": [
      "\u001b[1;36m  Cell \u001b[1;32mIn[80], line 2\u001b[1;36m\u001b[0m\n\u001b[1;33m    print (?)\u001b[0m\n\u001b[1;37m           ^\u001b[0m\n\u001b[1;31mSyntaxError\u001b[0m\u001b[1;31m:\u001b[0m invalid syntax\n"
     ]
    }
   ],
   "source": [
    "? = 70\n",
    "print (?)"
   ]
  },
  {
   "cell_type": "code",
   "execution_count": 82,
   "id": "b5b4f3da-c878-4bdd-a687-5630e249f1a8",
   "metadata": {},
   "outputs": [
    {
     "ename": "SyntaxError",
     "evalue": "cannot assign to literal here. Maybe you meant '==' instead of '='? (43926110.py, line 1)",
     "output_type": "error",
     "traceback": [
      "\u001b[1;36m  Cell \u001b[1;32mIn[82], line 1\u001b[1;36m\u001b[0m\n\u001b[1;33m    7898 = 7898\u001b[0m\n\u001b[1;37m    ^\u001b[0m\n\u001b[1;31mSyntaxError\u001b[0m\u001b[1;31m:\u001b[0m cannot assign to literal here. Maybe you meant '==' instead of '='?\n"
     ]
    }
   ],
   "source": [
    "7898 = 7898\n",
    "print (7898)"
   ]
  },
  {
   "cell_type": "code",
   "execution_count": null,
   "id": "6069a7bc-7dea-4bd0-9e9e-fc162c4377a5",
   "metadata": {},
   "outputs": [],
   "source": []
  }
 ],
 "metadata": {
  "kernelspec": {
   "display_name": "Python 3 (ipykernel)",
   "language": "python",
   "name": "python3"
  },
  "language_info": {
   "codemirror_mode": {
    "name": "ipython",
    "version": 3
   },
   "file_extension": ".py",
   "mimetype": "text/x-python",
   "name": "python",
   "nbconvert_exporter": "python",
   "pygments_lexer": "ipython3",
   "version": "3.12.7"
  }
 },
 "nbformat": 4,
 "nbformat_minor": 5
}
